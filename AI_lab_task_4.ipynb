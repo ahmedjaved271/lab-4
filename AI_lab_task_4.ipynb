{
  "nbformat": 4,
  "nbformat_minor": 0,
  "metadata": {
    "colab": {
      "provenance": []
    },
    "kernelspec": {
      "name": "python3",
      "display_name": "Python 3"
    },
    "language_info": {
      "name": "python"
    }
  },
  "cells": [
    {
      "cell_type": "code",
      "execution_count": null,
      "metadata": {
        "colab": {
          "base_uri": "https://localhost:8080/"
        },
        "id": "GpnH9X6F-kzX",
        "outputId": "3b174b59-be09-4d5c-a448-095086b7d4f6"
      },
      "outputs": [
        {
          "output_type": "stream",
          "name": "stdout",
          "text": [
            "Enter card number: 55123412421\n",
            "Invaild card number\n"
          ]
        }
      ],
      "source": [
        "def luhn_algorithm(card_number):\n",
        "  digits = [int(digit)  for digit in str(card_number)][::-1]\n",
        "\n",
        "  for i in range(1, len(digits), 2):\n",
        "    digits[i] *= 2\n",
        "    if digits[i] > 9:\n",
        "          digits[i] -=9\n",
        "\n",
        "  total = sum(digits)\n",
        "  return total % 10 == 0\n",
        "\n",
        "card_number = int(input(\"Enter card number: \"))\n",
        "if luhn_algorithm(card_number):\n",
        "  print(\"Valid card number\")\n",
        "else:\n",
        "  print(\"Invaild card number\")"
      ]
    },
    {
      "cell_type": "code",
      "source": [
        "def remove_punctuations(user_input):\n",
        "  punctuations = '''!()-[]{};:'\"\\,<>./?@#$%^&*_~'''\n",
        "  no_punct = \"\"\n",
        "  for char in user_input:\n",
        "    if char not in punctuations:\n",
        "      no_punct = no_punct + char\n",
        "\n",
        "  return no_punct\n",
        "\n",
        "user_input = input(\"Enter a punctuation string: \")\n",
        "cleaned_string = remove_punctuations(user_input)\n",
        "print(\"the punctuations without string is:\", cleaned_string)"
      ],
      "metadata": {
        "colab": {
          "base_uri": "https://localhost:8080/"
        },
        "id": "CW59VWvaAwKr",
        "outputId": "48ef1ae9-5c5e-4537-e905-1ddddb530d06"
      },
      "execution_count": null,
      "outputs": [
        {
          "output_type": "stream",
          "name": "stdout",
          "text": [
            "Enter a punctuation string: Your name? ahmed javed \n",
            "the punctuations without string is: Your name ahmed javed \n"
          ]
        }
      ]
    },
    {
      "cell_type": "code",
      "source": [
        "def bubble_sort(words):\n",
        "  n = len(words)\n",
        "  for i in range(n-1):\n",
        "    for j in range(n-i-1):\n",
        "      if words[j] > words[j+1]:\n",
        "        words[j], words[j+1] = words[j+1], words[j]\n",
        "  return words\n",
        "\n",
        "def sort_text_alphabetically(text):\n",
        "  words = text.split()\n",
        "\n",
        "  sorted_words = bubble_sort(words)\n",
        "\n",
        "  return ' '.join(sorted_words)\n",
        "\n",
        "\n",
        "user_text = input(\"Enter a Sentence: \")\n",
        "sorted_text = sort_text_alphabetically(user_text)\n",
        "print(\"The sorted sentence is:\", sorted_text)"
      ],
      "metadata": {
        "colab": {
          "base_uri": "https://localhost:8080/"
        },
        "id": "p2B3QmErV4Ol",
        "outputId": "660d887b-f65b-4dd7-fcab-724ffe505dba"
      },
      "execution_count": 11,
      "outputs": [
        {
          "output_type": "stream",
          "name": "stdout",
          "text": [
            "Enter a Sentence: i am ahmed\n",
            "The sorted sentence is: ahmed am i\n"
          ]
        }
      ]
    },
    {
      "cell_type": "code",
      "source": [],
      "metadata": {
        "id": "C8lBhzOSWu9Z"
      },
      "execution_count": null,
      "outputs": []
    }
  ]
}